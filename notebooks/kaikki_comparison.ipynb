{
 "cells": [
  {
   "cell_type": "code",
   "execution_count": 3,
   "metadata": {},
   "outputs": [],
   "source": [
    "from collections import defaultdict\n",
    "import json"
   ]
  },
  {
   "cell_type": "code",
   "execution_count": 18,
   "metadata": {},
   "outputs": [],
   "source": [
    "old_kaikki_2024_05_sense_ids = defaultdict(set)\n",
    "new_kaikki_2025_02_sense_ids = defaultdict(set)"
   ]
  },
  {
   "cell_type": "code",
   "execution_count": 19,
   "metadata": {},
   "outputs": [],
   "source": [
    "with open(\"../../../wiktionary-dictionaries/spanish_dict.json\") as file:\n",
    "    for line in file:\n",
    "        entry = json.loads(line)\n",
    "        old_kaikki_2024_05_sense_ids[entry['word']].update([\n",
    "            sense['id'] for sense in entry.get(\"senses\", [])\n",
    "        ])\n",
    "        # old_kaikki_2024_05[entry['word']].append(entry)\n",
    "\n",
    "with open(\"../../../../../Downloads/kaikki.org-dictionary-Spanish.jsonl\") as file:\n",
    "    for line in file:\n",
    "        entry = json.loads(line)\n",
    "        new_kaikki_2025_02_sense_ids[entry['word']].update([\n",
    "            sense['id'] for sense in entry.get(\"senses\", [])\n",
    "        ])\n",
    "\n",
    "        # new_kaikki_2025_02[entry['word']].append(entry)\n"
   ]
  },
  {
   "cell_type": "code",
   "execution_count": 7,
   "metadata": {},
   "outputs": [
    {
     "name": "stdout",
     "output_type": "stream",
     "text": [
      "752170\n",
      "746150\n"
     ]
    }
   ],
   "source": [
    "print(len(new_kaikki_2025_02_sense_ids))\n",
    "print(len(old_kaikki_2024_05_sense_ids))"
   ]
  },
  {
   "cell_type": "markdown",
   "metadata": {},
   "source": [
    "so plausibly they're going to be very similar, and indeed this sounds right for how few would have been added etc."
   ]
  },
  {
   "cell_type": "code",
   "execution_count": 8,
   "metadata": {},
   "outputs": [
    {
     "name": "stdout",
     "output_type": "stream",
     "text": [
      "['abdominales-es-noun-SrpsZ-l6', 'abdominales-es-noun-Nf~hPM8y', 'abdominales-es-adj-Nf~hPM8y']\n",
      "['en-abdominales-es-noun-SrpsZ-l6', 'en-abdominales-es-noun-Nf~hPM8y', 'en-abdominales-es-adj-Nf~hPM8y']\n"
     ]
    }
   ],
   "source": [
    "print(old_kaikki_2024_05_sense_ids['abdominales'])\n",
    "print(new_kaikki_2025_02_sense_ids['abdominales'])"
   ]
  },
  {
   "cell_type": "code",
   "execution_count": 20,
   "metadata": {},
   "outputs": [],
   "source": [
    "old_kaikki_sense_id_hashes = dict()\n",
    "new_kaikki_sense_id_hashes = dict()\n",
    "\n",
    "for word, ids in old_kaikki_2024_05_sense_ids.items():\n",
    "    old_kaikki_sense_id_hashes[word] = {\n",
    "        \"\".join(id.split('-')[3:]) \n",
    "        for id in ids\n",
    "    }\n",
    "\n",
    "for word, ids in new_kaikki_2025_02_sense_ids.items():\n",
    "    new_kaikki_sense_id_hashes[word] = {\n",
    "        \"\".join(id.split('-')[4:]) \n",
    "        for id in ids\n",
    "    }"
   ]
  },
  {
   "cell_type": "code",
   "execution_count": 22,
   "metadata": {},
   "outputs": [
    {
     "name": "stdout",
     "output_type": "stream",
     "text": [
      "{'SrpsZl6', 'Nf~hPM8y'}\n",
      "{'SrpsZl6', 'Nf~hPM8y'}\n"
     ]
    }
   ],
   "source": [
    "print(old_kaikki_sense_id_hashes['abdominales'])\n",
    "print(new_kaikki_sense_id_hashes['abdominales'])"
   ]
  },
  {
   "cell_type": "code",
   "execution_count": 26,
   "metadata": {},
   "outputs": [],
   "source": [
    "difference = {word: hashes for word, hashes in new_kaikki_sense_id_hashes.items() if hashes != old_kaikki_sense_id_hashes.get(word)}"
   ]
  },
  {
   "cell_type": "code",
   "execution_count": 28,
   "metadata": {},
   "outputs": [
    {
     "data": {
      "text/plain": [
       "0.0610407221771674"
      ]
     },
     "execution_count": 28,
     "metadata": {},
     "output_type": "execute_result"
    }
   ],
   "source": [
    "len(difference) / len(new_kaikki_sense_id_hashes)"
   ]
  },
  {
   "cell_type": "markdown",
   "metadata": {},
   "source": [
    "that sounds perfectly plausible for the number of entries that would have been updated. it's a bit harder b/c these are hashes on *senses* and not the whole entry, but still, informative\n",
    "\n",
    "(note in the docs don't mention where `id` is from but presumably it's just a hash obv.)"
   ]
  }
 ],
 "metadata": {
  "kernelspec": {
   "display_name": "Python 3",
   "language": "python",
   "name": "python3"
  },
  "language_info": {
   "codemirror_mode": {
    "name": "ipython",
    "version": 3
   },
   "file_extension": ".py",
   "mimetype": "text/x-python",
   "name": "python",
   "nbconvert_exporter": "python",
   "pygments_lexer": "ipython3",
   "version": "3.11.9"
  }
 },
 "nbformat": 4,
 "nbformat_minor": 2
}
