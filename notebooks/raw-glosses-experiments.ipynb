{
 "cells": [
  {
   "cell_type": "code",
   "execution_count": 1,
   "metadata": {},
   "outputs": [],
   "source": [
    "import json\n",
    "from pprint import pp"
   ]
  },
  {
   "cell_type": "code",
   "execution_count": 2,
   "metadata": {},
   "outputs": [],
   "source": [
    "import sys\n",
    "sys.path.append('..')\n",
    "\n",
    "from process_dictionary import group_senses, parse_multiple_form_of\n",
    "\n",
    "def exclude_keys(dict: dict, keys: list):\n",
    "  return {k: v for k, v in dict.items() if k not in keys}"
   ]
  },
  {
   "cell_type": "code",
   "execution_count": 3,
   "metadata": {},
   "outputs": [],
   "source": [
    "# all_entries = []\n",
    "# # with open(\"../../../../../Downloads/kaikki.org-dictionary-Spanish.jsonl\") as file:\n",
    "# with open(\"../../../wiktionary-dictionaries/spanish_dict.json\") as file:\n",
    "#     for line in file:\n",
    "#         all_entries.append(exclude_keys(json.loads(line), [\"forms\"]) )"
   ]
  },
  {
   "cell_type": "code",
   "execution_count": 4,
   "metadata": {},
   "outputs": [],
   "source": [
    "# problematic_groups = []\n",
    "# less_problematic_groups = []\n",
    "# for entry in all_entries:\n",
    "#     sense_groups = group_senses(entry)\n",
    "#     for group in sense_groups:\n",
    "#         if group[0].get(\"form_of\") and len(group) != 1 and not any([len(sense['glosses']) != 2 for sense in group]):\n",
    "#             if not group[0].get(\"raw_glosses\"):\n",
    "#                 problematic_groups.append((entry, group))\n",
    "#             else:\n",
    "#                 less_problematic_groups.append((entry, group, parse_multiple_form_of(group)))"
   ]
  },
  {
   "cell_type": "code",
   "execution_count": 5,
   "metadata": {},
   "outputs": [],
   "source": [
    "def remove_ending_colon(s):\n",
    "  if s.endswith(\":\"):\n",
    "    return s[:-1]\n",
    "  return s\n",
    "\n",
    "def parse_multiple_form_of_raw_glosses(group):\n",
    "  # in 99.86% of cases for spanish we're dealing with an nice nested inflected form intersection, which all have `glosses` len 2. for the rest we do this:\n",
    "  if any([len(sense['glosses']) != 2 for sense in group]):\n",
    "    return [{\"definition\": sense['glosses'][0]} for sense in group]\n",
    "  else:\n",
    "    # lemma_string = remove_ending_colon(group[0]['raw_glosses'][0].split(\" of \")[1].strip())\n",
    "    lemma_string = remove_ending_colon(group[0]['glosses'][0].split(\"\\n\")[0].split(\" of \")[1].strip())\n",
    "    result = []\n",
    "    for sense in group:\n",
    "      definition = sense['glosses'][-1]\n",
    "\n",
    "      if not definition.endswith(lemma_string):\n",
    "        definition += \" of \" + lemma_string\n",
    "\n",
    "      result.append({\"definition\": definition})\n",
    "    return result\n",
    "\n",
    "def parse_multiple_form_of_plain_glosses(group):\n",
    "  # in 99.86% of cases for spanish we're dealing with an nice nested inflected form intersection, which all have `glosses` len 2. for the rest we do this:\n",
    "  if any([len(sense['glosses']) != 2 for sense in group]):\n",
    "    return [{\"definition\": sense['glosses'][0]} for sense in group]\n",
    "  else:\n",
    "    lemma_string = remove_ending_colon(group[0]['raw_glosses'][0].split(\" of \")[1].strip())\n",
    "    # lemma_string = remove_ending_colon(group[0]['glosses'][0].split(\"\\n\")[0].split(\" of \")[1].strip())\n",
    "    result = []\n",
    "    for sense in group:\n",
    "      definition = sense['glosses'][-1]\n",
    "\n",
    "      if not definition.endswith(lemma_string):\n",
    "        definition += \" of \" + lemma_string\n",
    "\n",
    "      result.append({\"definition\": definition})\n",
    "    return result"
   ]
  },
  {
   "cell_type": "code",
   "execution_count": 6,
   "metadata": {},
   "outputs": [],
   "source": [
    "from collections import defaultdict"
   ]
  },
  {
   "cell_type": "code",
   "execution_count": 7,
   "metadata": {},
   "outputs": [],
   "source": [
    "multiple_form_of_definitions_raw_glosses = defaultdict(set)\n",
    "multiple_form_of_definitions_plain_glosses = defaultdict(set)\n",
    "\n",
    "# note this is the kaikki en-spanish from 2024-05 ish\n",
    "with open(\"../../../wiktionary-dictionaries/spanish_dict.json\") as file:\n",
    "    for line in file:\n",
    "        entry = json.loads(line)\n",
    "        word = entry.get(\"word\")\n",
    "        sense_groups = group_senses(entry)\n",
    "        for group in sense_groups:\n",
    "            if group[0].get(\"form_of\") and len(group) != 1 and not any([len(sense['glosses']) != 2 for sense in group]):\n",
    "                for definition in parse_multiple_form_of_raw_glosses(group):\n",
    "                    multiple_form_of_definitions_raw_glosses[word].add(definition['definition'])\n",
    "                for definition in parse_multiple_form_of_plain_glosses(group):\n",
    "                    multiple_form_of_definitions_plain_glosses[word].add(definition['definition'])\n",
    "                # multiple_form_of_definitions_raw_glosses[word].add(tuple())\n",
    "                # multiple_form_of_definitions_plain_glosses[word].add(tuple(parse_multiple_form_of_plain_glosses(group)))"
   ]
  },
  {
   "cell_type": "code",
   "execution_count": 13,
   "metadata": {},
   "outputs": [
    {
     "data": {
      "text/plain": [
       "[]"
      ]
     },
     "execution_count": 13,
     "metadata": {},
     "output_type": "execute_result"
    }
   ],
   "source": [
    "[{\"word\": word, \"raw_set\": raw_values, \"plain_set\": plain_values} for word, raw_values, plain_values in zip(multiple_form_of_definitions_raw_glosses.keys(), multiple_form_of_definitions_raw_glosses.values(), multiple_form_of_definitions_plain_glosses.values()) if raw_values != plain_values]\n"
   ]
  },
  {
   "cell_type": "code",
   "execution_count": 12,
   "metadata": {},
   "outputs": [],
   "source": [
    "# print(len(problematic_groups), len(less_problematic_groups))"
   ]
  },
  {
   "cell_type": "code",
   "execution_count": 11,
   "metadata": {},
   "outputs": [],
   "source": [
    "# less_problematic_groups[-1][0]\n",
    "# less_problematic_groups[-1]"
   ]
  },
  {
   "cell_type": "code",
   "execution_count": 10,
   "metadata": {},
   "outputs": [],
   "source": [
    "# pp(problematic_groups[::1000][-1][0]['senses'])\n",
    "# pp(problematic_groups[::1000][-1][1])"
   ]
  }
 ],
 "metadata": {
  "kernelspec": {
   "display_name": "Python 3",
   "language": "python",
   "name": "python3"
  },
  "language_info": {
   "codemirror_mode": {
    "name": "ipython",
    "version": 3
   },
   "file_extension": ".py",
   "mimetype": "text/x-python",
   "name": "python",
   "nbconvert_exporter": "python",
   "pygments_lexer": "ipython3",
   "version": "3.11.9"
  }
 },
 "nbformat": 4,
 "nbformat_minor": 2
}
